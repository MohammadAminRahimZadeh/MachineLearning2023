{
  "nbformat": 4,
  "nbformat_minor": 0,
  "metadata": {
    "colab": {
      "provenance": [],
      "authorship_tag": "ABX9TyPHl0+aNzcdZyfRrZ31l5Ac",
      "include_colab_link": true
    },
    "kernelspec": {
      "name": "python3",
      "display_name": "Python 3"
    },
    "language_info": {
      "name": "python"
    }
  },
  "cells": [
    {
      "cell_type": "markdown",
      "metadata": {
        "id": "view-in-github",
        "colab_type": "text"
      },
      "source": [
        "<a href=\"https://colab.research.google.com/github/MohammadAminRahimZadeh/MachineLearning2023/blob/main/Chapter1/HW1.ipynb\" target=\"_parent\"><img src=\"https://colab.research.google.com/assets/colab-badge.svg\" alt=\"Open In Colab\"/></a>"
      ]
    },
    {
      "cell_type": "markdown",
      "source": [
        "### ***HW1***\n"
      ],
      "metadata": {
        "id": "wHw2GHrtrIHX"
      }
    },
    {
      "cell_type": "markdown",
      "source": [
        "Question1\n",
        ": Write a Python program that asks the user for their age. If the age is greater than or equal to 18, print \"You are an adult.\" Otherwise, print \"You are a minor.\""
      ],
      "metadata": {
        "id": "GGU8GAXur5cg"
      }
    },
    {
      "cell_type": "code",
      "source": [
        "age=int(input(\"Enter your age:\"))\n",
        "if age>=18:\n",
        "  print(\"You are an adult\")\n",
        "else:\n",
        "  print(\"You are a minor\")"
      ],
      "metadata": {
        "colab": {
          "base_uri": "https://localhost:8080/"
        },
        "id": "cS6wijWXr5cg",
        "outputId": "2faea47b-22b6-4b94-fbf9-03dd081b6f7e"
      },
      "execution_count": null,
      "outputs": [
        {
          "output_type": "stream",
          "name": "stdout",
          "text": [
            "Enter your age:20\n",
            "You are an adult\n"
          ]
        }
      ]
    },
    {
      "cell_type": "markdown",
      "source": [
        "Question2\n",
        ":Write a Python program to print the numbers from 1 to 10 using a for loop."
      ],
      "metadata": {
        "id": "-UkdYo91r6PZ"
      }
    },
    {
      "cell_type": "code",
      "source": [
        "for i in range(1,11):\n",
        "  print(i)\n"
      ],
      "metadata": {
        "colab": {
          "base_uri": "https://localhost:8080/"
        },
        "id": "hGGBhDlX-cr2",
        "outputId": "e60e4d36-d3fa-4d12-8023-cde92e5a9bfd"
      },
      "execution_count": null,
      "outputs": [
        {
          "output_type": "stream",
          "name": "stdout",
          "text": [
            "1\n",
            "2\n",
            "3\n",
            "4\n",
            "5\n",
            "6\n",
            "7\n",
            "8\n",
            "9\n",
            "10\n"
          ]
        }
      ]
    },
    {
      "cell_type": "markdown",
      "source": [
        "*Question3*\n",
        ":Write a Python program to calculate the sum of all even numbers from 1 to 20 using a while loop."
      ],
      "metadata": {
        "id": "HFbk1AyYr60z"
      }
    },
    {
      "cell_type": "code",
      "source": [
        "i,sum=[0,0]\n",
        "while i<21:\n",
        " sum=sum+i\n",
        " i+=2\n",
        "\n",
        "print(\"Sum of even numbers from 1 to 20:\",sum)"
      ],
      "metadata": {
        "id": "0SBhH3pC74Rj",
        "colab": {
          "base_uri": "https://localhost:8080/"
        },
        "outputId": "0fa766b0-5a6f-47db-c438-af3bca4bdcde"
      },
      "execution_count": null,
      "outputs": [
        {
          "output_type": "stream",
          "name": "stdout",
          "text": [
            "Sum of even numbers from 1 to 20: 110\n"
          ]
        }
      ]
    },
    {
      "cell_type": "markdown",
      "source": [
        "Question4\n",
        ":Define a function called multiply that takes two parameters and returns their product."
      ],
      "metadata": {
        "id": "ishOChocr7CO"
      }
    },
    {
      "cell_type": "code",
      "source": [
        "def multipy(n,m):\n",
        "  product=m*n\n",
        "  return product\n",
        "m=float(input())\n",
        "n=float(input())\n",
        "product=multipy(m,n)\n",
        "print(product)"
      ],
      "metadata": {
        "id": "z2wtBa7Or7CO",
        "colab": {
          "base_uri": "https://localhost:8080/"
        },
        "outputId": "2acd36a4-364a-408d-f9a9-86ec4aa711be"
      },
      "execution_count": null,
      "outputs": [
        {
          "output_type": "stream",
          "name": "stdout",
          "text": [
            "5\n",
            "4\n",
            "20.0\n"
          ]
        }
      ]
    },
    {
      "cell_type": "markdown",
      "source": [
        "Question5\n",
        ": Create a class called Person with a constructor method that initializes the name and age attributes. Then, create an instance of the Person class and print the person's name and age."
      ],
      "metadata": {
        "id": "f9BK64fTr7Fz"
      }
    },
    {
      "cell_type": "code",
      "source": [
        "class person:\n",
        "  def __init__(self,Name,Age):\n",
        "    self.Name=Name\n",
        "    self.Age=Age\n",
        "  def __str__(self):\n",
        "   return f\"Name:{self.Name}\\nAge:{self.Age}\"\n",
        "\n",
        "\n",
        "first_person = person(\"Alice\", 25)\n",
        "print(first_person)"
      ],
      "metadata": {
        "colab": {
          "base_uri": "https://localhost:8080/"
        },
        "id": "tgI_6TQDBDzd",
        "outputId": "5605b8b1-00c6-4582-f88c-49f4d06d9235"
      },
      "execution_count": 9,
      "outputs": [
        {
          "output_type": "stream",
          "name": "stdout",
          "text": [
            "Name:Alice\n",
            "Age:25\n"
          ]
        }
      ]
    },
    {
      "cell_type": "markdown",
      "source": [
        "Question6:Create a subclass called Student that inherits from the Person class. Add an additional attribute called student_id to the Student class. Create an instance of the Student class and print the student's name, age, and student ID."
      ],
      "metadata": {
        "id": "MiPfprIgr7Im"
      }
    },
    {
      "cell_type": "code",
      "source": [
        "class person:\n",
        "  def __init__(self,Name,Age):\n",
        "    self.Name=Name\n",
        "    self.Age=Age\n",
        "  def __str__(self):\n",
        "   return f\"name:{self.Name}\\nage:{self.Age}\"\n",
        "\n",
        "class student(person):\n",
        "  def __init__(self,Name,Age,Student_ID):\n",
        "    super().__init__(Name,Age)\n",
        "    self.Student_ID = Student_ID\n",
        "  def __str__(self):\n",
        "    return super().__str__() + f\"\\nStudent_ID:{self.Student_ID}\"\n",
        "\n",
        "first_student = student(\"Alice\", 25, \"12345\")\n",
        "print(first_student)"
      ],
      "metadata": {
        "id": "lN9HQCLxr7Im",
        "colab": {
          "base_uri": "https://localhost:8080/"
        },
        "outputId": "b66ed50f-7817-4277-fb66-8448acc9283e"
      },
      "execution_count": 18,
      "outputs": [
        {
          "output_type": "stream",
          "name": "stdout",
          "text": [
            "name:Alice\n",
            "age:25\n",
            "Student_ID:12345\n"
          ]
        }
      ]
    },
    {
      "cell_type": "markdown",
      "source": [
        "Question7\n",
        ":Write a Python program that prompts the user to enter a number and then prints whether the number is prime or not. Create a function called is_prime that takes an integer as an argument and returns True if it's prime, and False otherwise."
      ],
      "metadata": {
        "id": "mfB3s9EBr7LZ"
      }
    },
    {
      "cell_type": "code",
      "source": [
        "def is_prime(the_number):\n",
        "  if the_number <= 1:\n",
        "    return False\n",
        "\n",
        "  for i in range(2,the_number+1//2):\n",
        "    r = the_number%i\n",
        "    if r==0:\n",
        "      return False\n",
        "  return True\n",
        "number= int(input(\"Enter a number:\"))\n",
        "\n",
        "prime=is_prime(number)\n",
        "\n",
        "if prime:\n",
        "    print(f\"{number} is a prime number\")\n",
        "else:\n",
        "    print(f\"{number} is not a prime number\")"
      ],
      "metadata": {
        "id": "u6-1u3Ipr7La",
        "colab": {
          "base_uri": "https://localhost:8080/"
        },
        "outputId": "e27acd8c-769c-4d9c-dc6e-f458f4d17650"
      },
      "execution_count": 12,
      "outputs": [
        {
          "output_type": "stream",
          "name": "stdout",
          "text": [
            "Enter a number:1\n",
            "1 is not a prime number\n"
          ]
        }
      ]
    },
    {
      "cell_type": "markdown",
      "source": [
        "Question8\n",
        ": Write a Python program that calculates the factorial of a given number using a recursive function. Prompt the user for an integer input and print its factorial."
      ],
      "metadata": {
        "id": "3Yt2HcGWregW"
      }
    },
    {
      "cell_type": "code",
      "source": [
        "def fac(number):\n",
        "  if number==0:\n",
        "    return 1\n",
        "  elif number==1:\n",
        "    return 1\n",
        "  else:\n",
        "   return number * fac(number-1)\n",
        "\n",
        "the_number= int(input(\"Enter an integer:\"))\n",
        "result=fac(the_number)\n",
        "print(f\"factorial of {the_number} is {result}\")"
      ],
      "metadata": {
        "id": "lLayYMUOrjlW",
        "colab": {
          "base_uri": "https://localhost:8080/"
        },
        "outputId": "cedd0038-27c7-44fe-ba26-3d55ebacc0a0"
      },
      "execution_count": 16,
      "outputs": [
        {
          "output_type": "stream",
          "name": "stdout",
          "text": [
            "Enter an integer:10\n",
            "factorial of 10 is 3628800\n"
          ]
        }
      ]
    },
    {
      "cell_type": "markdown",
      "source": [
        "Question9 : Create a class called Rectangle with attributes width and height. Add a method calculate_area that calculates and returns the area of the rectangle. Create an instance of the Rectangle class and print its area.\n"
      ],
      "metadata": {
        "id": "FKcyvSVNXE3o"
      }
    },
    {
      "cell_type": "code",
      "source": [
        "class rectangle:\n",
        "  def __init__(self,width,height):\n",
        "    self.width= width\n",
        "    self.height= height\n",
        "  def area(self):\n",
        "    return self.width * self.height\n",
        "\n",
        "the_rectangle=rectangle(4,10)\n",
        "the_area = the_rectangle.area()\n",
        "print(f\"Area of the rectangel: {the_area}\")"
      ],
      "metadata": {
        "colab": {
          "base_uri": "https://localhost:8080/"
        },
        "id": "7OqLh2ADYyzX",
        "outputId": "73640d93-97a8-492f-f19c-d43b45c1e2ef"
      },
      "execution_count": 23,
      "outputs": [
        {
          "output_type": "stream",
          "name": "stdout",
          "text": [
            "Area of the rectangel: 40\n"
          ]
        }
      ]
    },
    {
      "cell_type": "markdown",
      "source": [
        "Question10:Create a subclass called Square that inherits from the Rectangle class. Add a method calculate_perimeter to the Square class that calculates and returns the perimeter of the square. Create an instance of the Square class and print its perimeter.\n"
      ],
      "metadata": {
        "id": "9HecjItsbj42"
      }
    },
    {
      "cell_type": "code",
      "source": [
        "class rectangle:\n",
        "  def __init__(self,width,height):\n",
        "    self.width= width\n",
        "    self.height= height\n",
        "  def area(self):\n",
        "    return self.width * self.height\n",
        "class square(rectangle):\n",
        "  def __init__(self,width,height):\n",
        "    super().__init__(width,height)\n",
        "  def perimeter(self):\n",
        "    return 2 * (self.width + self.height)\n",
        "\n",
        "the_square=square(4,4)\n",
        "the_perimeter=the_square.perimeter()\n",
        "print(f\"Perimeter of the square: {the_perimeter}\")"
      ],
      "metadata": {
        "colab": {
          "base_uri": "https://localhost:8080/"
        },
        "id": "0IcoUSAGbkfO",
        "outputId": "85b36d75-c89f-47c3-97bc-66250e1d5041"
      },
      "execution_count": 35,
      "outputs": [
        {
          "output_type": "stream",
          "name": "stdout",
          "text": [
            "Perimeter of the square: 16\n"
          ]
        }
      ]
    },
    {
      "cell_type": "markdown",
      "source": [
        "Question11:"
      ],
      "metadata": {
        "id": "eox2Zfifbpae"
      }
    },
    {
      "cell_type": "code",
      "source": [
        "class Animal:\n",
        "  def __init__(self,name,species):\n",
        "    self.name=name\n",
        "    self.species=species\n",
        "  def speak(self):\n",
        "    print(f\"the {self.species} with name of {self.name} makes a sound.\")\n",
        "\n",
        "the_animal = Animal(\"Shitso\", \"cat\")\n",
        "the_animal.speak()"
      ],
      "metadata": {
        "colab": {
          "base_uri": "https://localhost:8080/"
        },
        "id": "MpNjKhRmbpae",
        "outputId": "58e0683e-23f2-4841-d2c7-da8cb8c72f48"
      },
      "execution_count": 41,
      "outputs": [
        {
          "output_type": "stream",
          "name": "stdout",
          "text": [
            "the cat with name of Shitso makes a sound.\n"
          ]
        }
      ]
    },
    {
      "cell_type": "markdown",
      "source": [
        "Question12:Create a subclass called Dog that inherits from the Animal class. Add a constructor to initialize the name, species, and breed attributes specific to dogs. Override the speak method in the Dog class to print \"Woof!\""
      ],
      "metadata": {
        "id": "N_filPmIbqAF"
      }
    },
    {
      "cell_type": "code",
      "source": [
        "class Animal:\n",
        "  def __init__(self,name,species):\n",
        "    self.name=name\n",
        "    self.species=species\n",
        "  def speak(self):\n",
        "    print(f\"the {self.species} with name of {self.name} makes a sound.\")\n",
        "class Dog(Animal):\n",
        "  def __init__(self,name,breed):\n",
        "    super().__init__(name,species=\"Dog\")\n",
        "    self.breed=breed\n",
        "  def speak(self):\n",
        "     print(f\"{self.name} the {self.breed} says woof!.\")\n",
        "\n",
        "the_DOg = Dog(\"Malosac\", \"German shepard\")\n",
        "the_DOg.speak()"
      ],
      "metadata": {
        "colab": {
          "base_uri": "https://localhost:8080/"
        },
        "id": "CPURF1WpbqAF",
        "outputId": "2f6f3bf4-4461-42d2-e00e-9896333e3c8f"
      },
      "execution_count": 49,
      "outputs": [
        {
          "output_type": "stream",
          "name": "stdout",
          "text": [
            "Malosac the German shepard says woof!.\n"
          ]
        }
      ]
    },
    {
      "cell_type": "markdown",
      "source": [
        "Question13:Create another subclass called Cat that inherits from the Animal class. Add a constructor to initialize the name, species, and color attributes specific to cats. Override the speak method in the Cat class to print \"Meow!\""
      ],
      "metadata": {
        "id": "F15gZNk2bqc9"
      }
    },
    {
      "cell_type": "code",
      "source": [
        "class Animal:\n",
        "  def __init__(self,name,species):\n",
        "    self.name=name\n",
        "    self.species=species\n",
        "  def speak(self):\n",
        "    print(f\"the {self.species} with name of {self.name} makes a sound.\")\n",
        "class Dog(Animal):\n",
        "  def __init__(self,name,breed):\n",
        "    super().__init__(name,species=\"Dog\")\n",
        "    self.breed=breed\n",
        "  def speak(self):\n",
        "    print(f\"{self.name} the {self.breed} says woof!.\")\n",
        "class Cat(Animal):\n",
        "  def __init__(self,name,color):\n",
        "    super().__init__(name,species=\"cat\")\n",
        "    self.color=color\n",
        "  def speak(self):\n",
        "     print(f\"{self.name} the {self.color} {self.species } says Meow!.\")\n",
        "\n",
        "the_Cat = Cat(\"Whiskers\", \"Calico\")\n",
        "the_Cat.speak()"
      ],
      "metadata": {
        "colab": {
          "base_uri": "https://localhost:8080/"
        },
        "id": "mqrSnUPMbqc9",
        "outputId": "b1b479da-e12b-4b43-9050-aad35a522951"
      },
      "execution_count": 48,
      "outputs": [
        {
          "output_type": "stream",
          "name": "stdout",
          "text": [
            "Whiskers the Calico cat says Meow!.\n"
          ]
        }
      ]
    },
    {
      "cell_type": "markdown",
      "source": [
        "Question14:"
      ],
      "metadata": {
        "id": "ZJNZ4zhZbq1t"
      }
    },
    {
      "cell_type": "code",
      "source": [
        "class Animal:\n",
        "  def __init__(self,name,species):\n",
        "    self.name=name\n",
        "    self.species=species\n",
        "  def speak(self):\n",
        "    print(f\"the {self.species} with name of {self.name} makes a sound.\")\n",
        "class Dog(Animal):\n",
        "  def __init__(self,name,breed):\n",
        "    super().__init__(name,species=\"Dog\")\n",
        "    self.breed=breed\n",
        "  def speak(self):\n",
        "    print(f\"{self.name} the {self.breed} says woof!.\")\n",
        "class Cat(Animal):\n",
        "  def __init__(self,name,color):\n",
        "    super().__init__(name,species=\"cat\")\n",
        "    self.color=color\n",
        "  def speak(self):\n",
        "     print(f\"{self.name} the {self.color} {self.species } says Meow!.\")\n",
        "\n",
        "the_DOg = Dog(\"Malosac\", \"German shepard\")\n",
        "the_DOg.speak()\n",
        "the_Cat = Cat(\"Whiskers\", \"Calico\")\n",
        "the_Cat.speak()\n"
      ],
      "metadata": {
        "colab": {
          "base_uri": "https://localhost:8080/"
        },
        "id": "lZfziUx_bq1t",
        "outputId": "45584dcc-3cec-4be3-a9a3-75cbd11fd3d2"
      },
      "execution_count": 50,
      "outputs": [
        {
          "output_type": "stream",
          "name": "stdout",
          "text": [
            "Malosac the German shepard says woof!.\n",
            "Whiskers the Calico cat says Meow!.\n"
          ]
        }
      ]
    }
  ]
}