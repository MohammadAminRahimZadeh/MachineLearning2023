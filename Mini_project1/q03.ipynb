{
  "nbformat": 4,
  "nbformat_minor": 0,
  "metadata": {
    "colab": {
      "provenance": [],
      "toc_visible": true,
      "authorship_tag": "ABX9TyPFOHqINcQp4C5HyPgwJljD",
      "include_colab_link": true
    },
    "kernelspec": {
      "name": "python3",
      "display_name": "Python 3"
    },
    "language_info": {
      "name": "python"
    }
  },
  "cells": [
    {
      "cell_type": "markdown",
      "metadata": {
        "id": "view-in-github",
        "colab_type": "text"
      },
      "source": [
        "<a href=\"https://colab.research.google.com/github/MohammadAminRahimZadeh/MachineLearning2023/blob/main/Mini_project1/q03.ipynb\" target=\"_parent\"><img src=\"https://colab.research.google.com/assets/colab-badge.svg\" alt=\"Open In Colab\"/></a>"
      ]
    },
    {
      "cell_type": "markdown",
      "source": [
        "![logo 2.png](data:image/png;base64,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)\n",
        "# ***Digital systems basics Mini poject 01 Q1***\n",
        "\n",
        "**KNTU E.E engineering faculty _ 2023 November**\n",
        "\n",
        "*Author: Mohammad Amin Rahim Zadeh*\n",
        "\n",
        "*Student ID: 9822103*"
      ],
      "metadata": {
        "id": "8szLn38lltRU"
      }
    },
    {
      "cell_type": "markdown",
      "source": [
        "Importing the dataset."
      ],
      "metadata": {
        "id": "sJEmm24NpN3I"
      }
    },
    {
      "cell_type": "code",
      "execution_count": null,
      "metadata": {
        "colab": {
          "base_uri": "https://localhost:8080/"
        },
        "id": "pWvVs0ZSi5UN",
        "outputId": "a8a0b2fb-4aaa-4565-a88f-55b3b31c8f83"
      },
      "outputs": [
        {
          "output_type": "stream",
          "name": "stdout",
          "text": [
            "Requirement already satisfied: gdown in /usr/local/lib/python3.10/dist-packages (4.6.6)\n",
            "Collecting gdown\n",
            "  Downloading gdown-4.7.1-py3-none-any.whl (15 kB)\n",
            "Requirement already satisfied: filelock in /usr/local/lib/python3.10/dist-packages (from gdown) (3.13.1)\n",
            "Requirement already satisfied: requests[socks] in /usr/local/lib/python3.10/dist-packages (from gdown) (2.31.0)\n",
            "Requirement already satisfied: six in /usr/local/lib/python3.10/dist-packages (from gdown) (1.16.0)\n",
            "Requirement already satisfied: tqdm in /usr/local/lib/python3.10/dist-packages (from gdown) (4.66.1)\n",
            "Requirement already satisfied: beautifulsoup4 in /usr/local/lib/python3.10/dist-packages (from gdown) (4.11.2)\n",
            "Requirement already satisfied: soupsieve>1.2 in /usr/local/lib/python3.10/dist-packages (from beautifulsoup4->gdown) (2.5)\n",
            "Requirement already satisfied: charset-normalizer<4,>=2 in /usr/local/lib/python3.10/dist-packages (from requests[socks]->gdown) (3.3.2)\n",
            "Requirement already satisfied: idna<4,>=2.5 in /usr/local/lib/python3.10/dist-packages (from requests[socks]->gdown) (3.4)\n",
            "Requirement already satisfied: urllib3<3,>=1.21.1 in /usr/local/lib/python3.10/dist-packages (from requests[socks]->gdown) (2.0.7)\n",
            "Requirement already satisfied: certifi>=2017.4.17 in /usr/local/lib/python3.10/dist-packages (from requests[socks]->gdown) (2023.7.22)\n",
            "Requirement already satisfied: PySocks!=1.5.7,>=1.5.6 in /usr/local/lib/python3.10/dist-packages (from requests[socks]->gdown) (1.7.1)\n",
            "Installing collected packages: gdown\n",
            "  Attempting uninstall: gdown\n",
            "    Found existing installation: gdown 4.6.6\n",
            "    Uninstalling gdown-4.6.6:\n",
            "      Successfully uninstalled gdown-4.6.6\n",
            "Successfully installed gdown-4.7.1\n",
            "Downloading...\n",
            "From: https://drive.google.com/uc?id=1MSetIDmXSN28my5ffOXyqqLaCSb2QaPC\n",
            "To: /content/heart_disease_health_indicators.csv\n",
            "100% 11.8M/11.8M [00:00<00:00, 154MB/s]\n"
          ]
        }
      ],
      "source": [
        "!pip install --upgrade --no-cache-dir gdown\n",
        "!gdown 1MSetIDmXSN28my5ffOXyqqLaCSb2QaPC"
      ]
    },
    {
      "cell_type": "markdown",
      "source": [
        "Importing libraries."
      ],
      "metadata": {
        "id": "eQaJLq4ApRna"
      }
    },
    {
      "cell_type": "code",
      "source": [
        "import numpy as np\n",
        "import pandas as pd\n",
        "from sklearn import metrics\n",
        "import matplotlib.pyplot as plt\n",
        "from sklearn.preprocessing import MinMaxScaler\n",
        "from sklearn.linear_model import SGDClassifier\n",
        "from sklearn.metrics import classification_report\n",
        "from sklearn.linear_model import LogisticRegression\n",
        "from sklearn.model_selection import train_test_split\n",
        "from sklearn.metrics import accuracy_score, classification_report"
      ],
      "metadata": {
        "id": "JRGBHTSFmuva"
      },
      "execution_count": null,
      "outputs": []
    },
    {
      "cell_type": "code",
      "source": [
        "df = pd.read_csv('/content/heart_disease_health_indicators.csv')\n",
        "df"
      ],
      "metadata": {
        "colab": {
          "base_uri": "https://localhost:8080/",
          "height": 424
        },
        "id": "hMThWmjHmz5y",
        "outputId": "efd9d230-b324-45ab-9946-8076b51b3db2"
      },
      "execution_count": null,
      "outputs": [
        {
          "output_type": "execute_result",
          "data": {
            "text/plain": [
              "        HeartDiseaseorAttack  HighBP  HighChol  CholCheck  BMI  Smoker  \\\n",
              "0                          0       1         1          1   40       1   \n",
              "1                          0       0         0          0   25       1   \n",
              "2                          0       1         1          1   28       0   \n",
              "3                          0       1         0          1   27       0   \n",
              "4                          0       1         1          1   24       0   \n",
              "...                      ...     ...       ...        ...  ...     ...   \n",
              "253656                     0       0         0          1   25       0   \n",
              "253657                     0       0         1          1   24       0   \n",
              "253658                     0       0         0          0   27       0   \n",
              "253659                     0       0         1          1   37       0   \n",
              "253660                     0       0         1          1   34       1   \n",
              "\n",
              "        Stroke  Diabetes  PhysActivity  Fruits  ...  AnyHealthcare  \\\n",
              "0            0         0             0       0  ...              1   \n",
              "1            0         0             1       0  ...              0   \n",
              "2            0         0             0       1  ...              1   \n",
              "3            0         0             1       1  ...              1   \n",
              "4            0         0             1       1  ...              1   \n",
              "...        ...       ...           ...     ...  ...            ...   \n",
              "253656       0         0             1       1  ...              1   \n",
              "253657       0         0             0       0  ...              1   \n",
              "253658       0         0             1       0  ...              1   \n",
              "253659       0         2             0       0  ...              1   \n",
              "253660       0         0             0       1  ...              1   \n",
              "\n",
              "        NoDocbcCost  GenHlth  MentHlth  PhysHlth  DiffWalk  Sex  Age  \\\n",
              "0                 0        5        18        15         1    0    9   \n",
              "1                 1        3         0         0         0    0    7   \n",
              "2                 1        5        30        30         1    0    9   \n",
              "3                 0        2         0         0         0    0   11   \n",
              "4                 0        2         3         0         0    0   11   \n",
              "...             ...      ...       ...       ...       ...  ...  ...   \n",
              "253656            0        1         0         0         0    0    4   \n",
              "253657            0        3         0         0         0    0    7   \n",
              "253658            1        2         0         0         0    0    3   \n",
              "253659            0        4         0         0         0    0    6   \n",
              "253660            0        3         0         2         1    0    7   \n",
              "\n",
              "        Education  Income  \n",
              "0               4       3  \n",
              "1               6       1  \n",
              "2               4       8  \n",
              "3               3       6  \n",
              "4               5       4  \n",
              "...           ...     ...  \n",
              "253656          6       8  \n",
              "253657          5       3  \n",
              "253658          6       5  \n",
              "253659          4       1  \n",
              "253660          4       3  \n",
              "\n",
              "[253661 rows x 22 columns]"
            ],
            "text/html": [
              "\n",
              "  <div id=\"df-609dd382-1a0d-4cff-b81a-cc892a16315b\" class=\"colab-df-container\">\n",
              "    <div>\n",
              "<style scoped>\n",
              "    .dataframe tbody tr th:only-of-type {\n",
              "        vertical-align: middle;\n",
              "    }\n",
              "\n",
              "    .dataframe tbody tr th {\n",
              "        vertical-align: top;\n",
              "    }\n",
              "\n",
              "    .dataframe thead th {\n",
              "        text-align: right;\n",
              "    }\n",
              "</style>\n",
              "<table border=\"1\" class=\"dataframe\">\n",
              "  <thead>\n",
              "    <tr style=\"text-align: right;\">\n",
              "      <th></th>\n",
              "      <th>HeartDiseaseorAttack</th>\n",
              "      <th>HighBP</th>\n",
              "      <th>HighChol</th>\n",
              "      <th>CholCheck</th>\n",
              "      <th>BMI</th>\n",
              "      <th>Smoker</th>\n",
              "      <th>Stroke</th>\n",
              "      <th>Diabetes</th>\n",
              "      <th>PhysActivity</th>\n",
              "      <th>Fruits</th>\n",
              "      <th>...</th>\n",
              "      <th>AnyHealthcare</th>\n",
              "      <th>NoDocbcCost</th>\n",
              "      <th>GenHlth</th>\n",
              "      <th>MentHlth</th>\n",
              "      <th>PhysHlth</th>\n",
              "      <th>DiffWalk</th>\n",
              "      <th>Sex</th>\n",
              "      <th>Age</th>\n",
              "      <th>Education</th>\n",
              "      <th>Income</th>\n",
              "    </tr>\n",
              "  </thead>\n",
              "  <tbody>\n",
              "    <tr>\n",
              "      <th>0</th>\n",
              "      <td>0</td>\n",
              "      <td>1</td>\n",
              "      <td>1</td>\n",
              "      <td>1</td>\n",
              "      <td>40</td>\n",
              "      <td>1</td>\n",
              "      <td>0</td>\n",
              "      <td>0</td>\n",
              "      <td>0</td>\n",
              "      <td>0</td>\n",
              "      <td>...</td>\n",
              "      <td>1</td>\n",
              "      <td>0</td>\n",
              "      <td>5</td>\n",
              "      <td>18</td>\n",
              "      <td>15</td>\n",
              "      <td>1</td>\n",
              "      <td>0</td>\n",
              "      <td>9</td>\n",
              "      <td>4</td>\n",
              "      <td>3</td>\n",
              "    </tr>\n",
              "    <tr>\n",
              "      <th>1</th>\n",
              "      <td>0</td>\n",
              "      <td>0</td>\n",
              "      <td>0</td>\n",
              "      <td>0</td>\n",
              "      <td>25</td>\n",
              "      <td>1</td>\n",
              "      <td>0</td>\n",
              "      <td>0</td>\n",
              "      <td>1</td>\n",
              "      <td>0</td>\n",
              "      <td>...</td>\n",
              "      <td>0</td>\n",
              "      <td>1</td>\n",
              "      <td>3</td>\n",
              "      <td>0</td>\n",
              "      <td>0</td>\n",
              "      <td>0</td>\n",
              "      <td>0</td>\n",
              "      <td>7</td>\n",
              "      <td>6</td>\n",
              "      <td>1</td>\n",
              "    </tr>\n",
              "    <tr>\n",
              "      <th>2</th>\n",
              "      <td>0</td>\n",
              "      <td>1</td>\n",
              "      <td>1</td>\n",
              "      <td>1</td>\n",
              "      <td>28</td>\n",
              "      <td>0</td>\n",
              "      <td>0</td>\n",
              "      <td>0</td>\n",
              "      <td>0</td>\n",
              "      <td>1</td>\n",
              "      <td>...</td>\n",
              "      <td>1</td>\n",
              "      <td>1</td>\n",
              "      <td>5</td>\n",
              "      <td>30</td>\n",
              "      <td>30</td>\n",
              "      <td>1</td>\n",
              "      <td>0</td>\n",
              "      <td>9</td>\n",
              "      <td>4</td>\n",
              "      <td>8</td>\n",
              "    </tr>\n",
              "    <tr>\n",
              "      <th>3</th>\n",
              "      <td>0</td>\n",
              "      <td>1</td>\n",
              "      <td>0</td>\n",
              "      <td>1</td>\n",
              "      <td>27</td>\n",
              "      <td>0</td>\n",
              "      <td>0</td>\n",
              "      <td>0</td>\n",
              "      <td>1</td>\n",
              "      <td>1</td>\n",
              "      <td>...</td>\n",
              "      <td>1</td>\n",
              "      <td>0</td>\n",
              "      <td>2</td>\n",
              "      <td>0</td>\n",
              "      <td>0</td>\n",
              "      <td>0</td>\n",
              "      <td>0</td>\n",
              "      <td>11</td>\n",
              "      <td>3</td>\n",
              "      <td>6</td>\n",
              "    </tr>\n",
              "    <tr>\n",
              "      <th>4</th>\n",
              "      <td>0</td>\n",
              "      <td>1</td>\n",
              "      <td>1</td>\n",
              "      <td>1</td>\n",
              "      <td>24</td>\n",
              "      <td>0</td>\n",
              "      <td>0</td>\n",
              "      <td>0</td>\n",
              "      <td>1</td>\n",
              "      <td>1</td>\n",
              "      <td>...</td>\n",
              "      <td>1</td>\n",
              "      <td>0</td>\n",
              "      <td>2</td>\n",
              "      <td>3</td>\n",
              "      <td>0</td>\n",
              "      <td>0</td>\n",
              "      <td>0</td>\n",
              "      <td>11</td>\n",
              "      <td>5</td>\n",
              "      <td>4</td>\n",
              "    </tr>\n",
              "    <tr>\n",
              "      <th>...</th>\n",
              "      <td>...</td>\n",
              "      <td>...</td>\n",
              "      <td>...</td>\n",
              "      <td>...</td>\n",
              "      <td>...</td>\n",
              "      <td>...</td>\n",
              "      <td>...</td>\n",
              "      <td>...</td>\n",
              "      <td>...</td>\n",
              "      <td>...</td>\n",
              "      <td>...</td>\n",
              "      <td>...</td>\n",
              "      <td>...</td>\n",
              "      <td>...</td>\n",
              "      <td>...</td>\n",
              "      <td>...</td>\n",
              "      <td>...</td>\n",
              "      <td>...</td>\n",
              "      <td>...</td>\n",
              "      <td>...</td>\n",
              "      <td>...</td>\n",
              "    </tr>\n",
              "    <tr>\n",
              "      <th>253656</th>\n",
              "      <td>0</td>\n",
              "      <td>0</td>\n",
              "      <td>0</td>\n",
              "      <td>1</td>\n",
              "      <td>25</td>\n",
              "      <td>0</td>\n",
              "      <td>0</td>\n",
              "      <td>0</td>\n",
              "      <td>1</td>\n",
              "      <td>1</td>\n",
              "      <td>...</td>\n",
              "      <td>1</td>\n",
              "      <td>0</td>\n",
              "      <td>1</td>\n",
              "      <td>0</td>\n",
              "      <td>0</td>\n",
              "      <td>0</td>\n",
              "      <td>0</td>\n",
              "      <td>4</td>\n",
              "      <td>6</td>\n",
              "      <td>8</td>\n",
              "    </tr>\n",
              "    <tr>\n",
              "      <th>253657</th>\n",
              "      <td>0</td>\n",
              "      <td>0</td>\n",
              "      <td>1</td>\n",
              "      <td>1</td>\n",
              "      <td>24</td>\n",
              "      <td>0</td>\n",
              "      <td>0</td>\n",
              "      <td>0</td>\n",
              "      <td>0</td>\n",
              "      <td>0</td>\n",
              "      <td>...</td>\n",
              "      <td>1</td>\n",
              "      <td>0</td>\n",
              "      <td>3</td>\n",
              "      <td>0</td>\n",
              "      <td>0</td>\n",
              "      <td>0</td>\n",
              "      <td>0</td>\n",
              "      <td>7</td>\n",
              "      <td>5</td>\n",
              "      <td>3</td>\n",
              "    </tr>\n",
              "    <tr>\n",
              "      <th>253658</th>\n",
              "      <td>0</td>\n",
              "      <td>0</td>\n",
              "      <td>0</td>\n",
              "      <td>0</td>\n",
              "      <td>27</td>\n",
              "      <td>0</td>\n",
              "      <td>0</td>\n",
              "      <td>0</td>\n",
              "      <td>1</td>\n",
              "      <td>0</td>\n",
              "      <td>...</td>\n",
              "      <td>1</td>\n",
              "      <td>1</td>\n",
              "      <td>2</td>\n",
              "      <td>0</td>\n",
              "      <td>0</td>\n",
              "      <td>0</td>\n",
              "      <td>0</td>\n",
              "      <td>3</td>\n",
              "      <td>6</td>\n",
              "      <td>5</td>\n",
              "    </tr>\n",
              "    <tr>\n",
              "      <th>253659</th>\n",
              "      <td>0</td>\n",
              "      <td>0</td>\n",
              "      <td>1</td>\n",
              "      <td>1</td>\n",
              "      <td>37</td>\n",
              "      <td>0</td>\n",
              "      <td>0</td>\n",
              "      <td>2</td>\n",
              "      <td>0</td>\n",
              "      <td>0</td>\n",
              "      <td>...</td>\n",
              "      <td>1</td>\n",
              "      <td>0</td>\n",
              "      <td>4</td>\n",
              "      <td>0</td>\n",
              "      <td>0</td>\n",
              "      <td>0</td>\n",
              "      <td>0</td>\n",
              "      <td>6</td>\n",
              "      <td>4</td>\n",
              "      <td>1</td>\n",
              "    </tr>\n",
              "    <tr>\n",
              "      <th>253660</th>\n",
              "      <td>0</td>\n",
              "      <td>0</td>\n",
              "      <td>1</td>\n",
              "      <td>1</td>\n",
              "      <td>34</td>\n",
              "      <td>1</td>\n",
              "      <td>0</td>\n",
              "      <td>0</td>\n",
              "      <td>0</td>\n",
              "      <td>1</td>\n",
              "      <td>...</td>\n",
              "      <td>1</td>\n",
              "      <td>0</td>\n",
              "      <td>3</td>\n",
              "      <td>0</td>\n",
              "      <td>2</td>\n",
              "      <td>1</td>\n",
              "      <td>0</td>\n",
              "      <td>7</td>\n",
              "      <td>4</td>\n",
              "      <td>3</td>\n",
              "    </tr>\n",
              "  </tbody>\n",
              "</table>\n",
              "<p>253661 rows × 22 columns</p>\n",
              "</div>\n",
              "    <div class=\"colab-df-buttons\">\n",
              "\n",
              "  <div class=\"colab-df-container\">\n",
              "    <button class=\"colab-df-convert\" onclick=\"convertToInteractive('df-609dd382-1a0d-4cff-b81a-cc892a16315b')\"\n",
              "            title=\"Convert this dataframe to an interactive table.\"\n",
              "            style=\"display:none;\">\n",
              "\n",
              "  <svg xmlns=\"http://www.w3.org/2000/svg\" height=\"24px\" viewBox=\"0 -960 960 960\">\n",
              "    <path d=\"M120-120v-720h720v720H120Zm60-500h600v-160H180v160Zm220 220h160v-160H400v160Zm0 220h160v-160H400v160ZM180-400h160v-160H180v160Zm440 0h160v-160H620v160ZM180-180h160v-160H180v160Zm440 0h160v-160H620v160Z\"/>\n",
              "  </svg>\n",
              "    </button>\n",
              "\n",
              "  <style>\n",
              "    .colab-df-container {\n",
              "      display:flex;\n",
              "      gap: 12px;\n",
              "    }\n",
              "\n",
              "    .colab-df-convert {\n",
              "      background-color: #E8F0FE;\n",
              "      border: none;\n",
              "      border-radius: 50%;\n",
              "      cursor: pointer;\n",
              "      display: none;\n",
              "      fill: #1967D2;\n",
              "      height: 32px;\n",
              "      padding: 0 0 0 0;\n",
              "      width: 32px;\n",
              "    }\n",
              "\n",
              "    .colab-df-convert:hover {\n",
              "      background-color: #E2EBFA;\n",
              "      box-shadow: 0px 1px 2px rgba(60, 64, 67, 0.3), 0px 1px 3px 1px rgba(60, 64, 67, 0.15);\n",
              "      fill: #174EA6;\n",
              "    }\n",
              "\n",
              "    .colab-df-buttons div {\n",
              "      margin-bottom: 4px;\n",
              "    }\n",
              "\n",
              "    [theme=dark] .colab-df-convert {\n",
              "      background-color: #3B4455;\n",
              "      fill: #D2E3FC;\n",
              "    }\n",
              "\n",
              "    [theme=dark] .colab-df-convert:hover {\n",
              "      background-color: #434B5C;\n",
              "      box-shadow: 0px 1px 3px 1px rgba(0, 0, 0, 0.15);\n",
              "      filter: drop-shadow(0px 1px 2px rgba(0, 0, 0, 0.3));\n",
              "      fill: #FFFFFF;\n",
              "    }\n",
              "  </style>\n",
              "\n",
              "    <script>\n",
              "      const buttonEl =\n",
              "        document.querySelector('#df-609dd382-1a0d-4cff-b81a-cc892a16315b button.colab-df-convert');\n",
              "      buttonEl.style.display =\n",
              "        google.colab.kernel.accessAllowed ? 'block' : 'none';\n",
              "\n",
              "      async function convertToInteractive(key) {\n",
              "        const element = document.querySelector('#df-609dd382-1a0d-4cff-b81a-cc892a16315b');\n",
              "        const dataTable =\n",
              "          await google.colab.kernel.invokeFunction('convertToInteractive',\n",
              "                                                    [key], {});\n",
              "        if (!dataTable) return;\n",
              "\n",
              "        const docLinkHtml = 'Like what you see? Visit the ' +\n",
              "          '<a target=\"_blank\" href=https://colab.research.google.com/notebooks/data_table.ipynb>data table notebook</a>'\n",
              "          + ' to learn more about interactive tables.';\n",
              "        element.innerHTML = '';\n",
              "        dataTable['output_type'] = 'display_data';\n",
              "        await google.colab.output.renderOutput(dataTable, element);\n",
              "        const docLink = document.createElement('div');\n",
              "        docLink.innerHTML = docLinkHtml;\n",
              "        element.appendChild(docLink);\n",
              "      }\n",
              "    </script>\n",
              "  </div>\n",
              "\n",
              "\n",
              "<div id=\"df-4536b8cb-0f65-4d37-93c3-165e45a1bf53\">\n",
              "  <button class=\"colab-df-quickchart\" onclick=\"quickchart('df-4536b8cb-0f65-4d37-93c3-165e45a1bf53')\"\n",
              "            title=\"Suggest charts\"\n",
              "            style=\"display:none;\">\n",
              "\n",
              "<svg xmlns=\"http://www.w3.org/2000/svg\" height=\"24px\"viewBox=\"0 0 24 24\"\n",
              "     width=\"24px\">\n",
              "    <g>\n",
              "        <path d=\"M19 3H5c-1.1 0-2 .9-2 2v14c0 1.1.9 2 2 2h14c1.1 0 2-.9 2-2V5c0-1.1-.9-2-2-2zM9 17H7v-7h2v7zm4 0h-2V7h2v10zm4 0h-2v-4h2v4z\"/>\n",
              "    </g>\n",
              "</svg>\n",
              "  </button>\n",
              "\n",
              "<style>\n",
              "  .colab-df-quickchart {\n",
              "      --bg-color: #E8F0FE;\n",
              "      --fill-color: #1967D2;\n",
              "      --hover-bg-color: #E2EBFA;\n",
              "      --hover-fill-color: #174EA6;\n",
              "      --disabled-fill-color: #AAA;\n",
              "      --disabled-bg-color: #DDD;\n",
              "  }\n",
              "\n",
              "  [theme=dark] .colab-df-quickchart {\n",
              "      --bg-color: #3B4455;\n",
              "      --fill-color: #D2E3FC;\n",
              "      --hover-bg-color: #434B5C;\n",
              "      --hover-fill-color: #FFFFFF;\n",
              "      --disabled-bg-color: #3B4455;\n",
              "      --disabled-fill-color: #666;\n",
              "  }\n",
              "\n",
              "  .colab-df-quickchart {\n",
              "    background-color: var(--bg-color);\n",
              "    border: none;\n",
              "    border-radius: 50%;\n",
              "    cursor: pointer;\n",
              "    display: none;\n",
              "    fill: var(--fill-color);\n",
              "    height: 32px;\n",
              "    padding: 0;\n",
              "    width: 32px;\n",
              "  }\n",
              "\n",
              "  .colab-df-quickchart:hover {\n",
              "    background-color: var(--hover-bg-color);\n",
              "    box-shadow: 0 1px 2px rgba(60, 64, 67, 0.3), 0 1px 3px 1px rgba(60, 64, 67, 0.15);\n",
              "    fill: var(--button-hover-fill-color);\n",
              "  }\n",
              "\n",
              "  .colab-df-quickchart-complete:disabled,\n",
              "  .colab-df-quickchart-complete:disabled:hover {\n",
              "    background-color: var(--disabled-bg-color);\n",
              "    fill: var(--disabled-fill-color);\n",
              "    box-shadow: none;\n",
              "  }\n",
              "\n",
              "  .colab-df-spinner {\n",
              "    border: 2px solid var(--fill-color);\n",
              "    border-color: transparent;\n",
              "    border-bottom-color: var(--fill-color);\n",
              "    animation:\n",
              "      spin 1s steps(1) infinite;\n",
              "  }\n",
              "\n",
              "  @keyframes spin {\n",
              "    0% {\n",
              "      border-color: transparent;\n",
              "      border-bottom-color: var(--fill-color);\n",
              "      border-left-color: var(--fill-color);\n",
              "    }\n",
              "    20% {\n",
              "      border-color: transparent;\n",
              "      border-left-color: var(--fill-color);\n",
              "      border-top-color: var(--fill-color);\n",
              "    }\n",
              "    30% {\n",
              "      border-color: transparent;\n",
              "      border-left-color: var(--fill-color);\n",
              "      border-top-color: var(--fill-color);\n",
              "      border-right-color: var(--fill-color);\n",
              "    }\n",
              "    40% {\n",
              "      border-color: transparent;\n",
              "      border-right-color: var(--fill-color);\n",
              "      border-top-color: var(--fill-color);\n",
              "    }\n",
              "    60% {\n",
              "      border-color: transparent;\n",
              "      border-right-color: var(--fill-color);\n",
              "    }\n",
              "    80% {\n",
              "      border-color: transparent;\n",
              "      border-right-color: var(--fill-color);\n",
              "      border-bottom-color: var(--fill-color);\n",
              "    }\n",
              "    90% {\n",
              "      border-color: transparent;\n",
              "      border-bottom-color: var(--fill-color);\n",
              "    }\n",
              "  }\n",
              "</style>\n",
              "\n",
              "  <script>\n",
              "    async function quickchart(key) {\n",
              "      const quickchartButtonEl =\n",
              "        document.querySelector('#' + key + ' button');\n",
              "      quickchartButtonEl.disabled = true;  // To prevent multiple clicks.\n",
              "      quickchartButtonEl.classList.add('colab-df-spinner');\n",
              "      try {\n",
              "        const charts = await google.colab.kernel.invokeFunction(\n",
              "            'suggestCharts', [key], {});\n",
              "      } catch (error) {\n",
              "        console.error('Error during call to suggestCharts:', error);\n",
              "      }\n",
              "      quickchartButtonEl.classList.remove('colab-df-spinner');\n",
              "      quickchartButtonEl.classList.add('colab-df-quickchart-complete');\n",
              "    }\n",
              "    (() => {\n",
              "      let quickchartButtonEl =\n",
              "        document.querySelector('#df-4536b8cb-0f65-4d37-93c3-165e45a1bf53 button');\n",
              "      quickchartButtonEl.style.display =\n",
              "        google.colab.kernel.accessAllowed ? 'block' : 'none';\n",
              "    })();\n",
              "  </script>\n",
              "</div>\n",
              "    </div>\n",
              "  </div>\n"
            ]
          },
          "metadata": {},
          "execution_count": 7
        }
      ]
    },
    {
      "cell_type": "markdown",
      "source": [
        "Checking for missing data."
      ],
      "metadata": {
        "id": "w0oGV4jkpVKx"
      }
    },
    {
      "cell_type": "code",
      "source": [
        "null = df.isnull().sum()\n",
        "null"
      ],
      "metadata": {
        "colab": {
          "base_uri": "https://localhost:8080/"
        },
        "id": "KTENCkmyoDgr",
        "outputId": "6d9c098c-aeac-47fa-8071-5f59c58f22fc"
      },
      "execution_count": null,
      "outputs": [
        {
          "output_type": "execute_result",
          "data": {
            "text/plain": [
              "HeartDiseaseorAttack    0\n",
              "HighBP                  0\n",
              "HighChol                0\n",
              "CholCheck               0\n",
              "BMI                     0\n",
              "Smoker                  0\n",
              "Stroke                  0\n",
              "Diabetes                0\n",
              "PhysActivity            0\n",
              "Fruits                  0\n",
              "Veggies                 0\n",
              "HvyAlcoholConsump       0\n",
              "AnyHealthcare           0\n",
              "NoDocbcCost             0\n",
              "GenHlth                 0\n",
              "MentHlth                0\n",
              "PhysHlth                0\n",
              "DiffWalk                0\n",
              "Sex                     0\n",
              "Age                     0\n",
              "Education               0\n",
              "Income                  0\n",
              "dtype: int64"
            ]
          },
          "metadata": {},
          "execution_count": 8
        }
      ]
    },
    {
      "cell_type": "markdown",
      "source": [
        "picking 200 random samples and forming features and label dataframes."
      ],
      "metadata": {
        "id": "oEaci2yRpbDI"
      }
    },
    {
      "cell_type": "code",
      "source": [
        "random_data = df.sample(n = 200)\n",
        "\n",
        "feature_columns = [\"HighBP\", \"HighChol\",\"BMI\", \"Smoker\", \"Diabetes\", \"PhysActivity\", \"HvyAlcoholConsump\", \"MentHlth\", \"Age\" ]\n",
        "features = random_data[feature_columns]\n",
        "\n",
        "label = random_data[\"HeartDiseaseorAttack\"]\n",
        "label = np.array(label)\n",
        "label = label.reshape(-1,1)"
      ],
      "metadata": {
        "id": "RjiwxJ0SoHOp"
      },
      "execution_count": null,
      "outputs": []
    },
    {
      "cell_type": "markdown",
      "source": [
        "Normalizing the data."
      ],
      "metadata": {
        "id": "U0IH30N_pnIw"
      }
    },
    {
      "cell_type": "code",
      "source": [
        "scaler = MinMaxScaler()\n",
        "\n",
        "scaler.fit(features)\n",
        "x = scaler.transform(features)\n",
        "\n",
        "scaler.fit(label)\n",
        "y = scaler.transform(label)"
      ],
      "metadata": {
        "id": "RVF15sdZoKBf"
      },
      "execution_count": null,
      "outputs": []
    },
    {
      "cell_type": "markdown",
      "source": [
        "Spliting."
      ],
      "metadata": {
        "id": "n1J_ix7eva7V"
      }
    },
    {
      "cell_type": "code",
      "source": [
        "xc1 = x[0:100]\n",
        "yc1 = y[0:100]\n",
        "xc2 = x[100:200]\n",
        "yc2 = y[100:200]"
      ],
      "metadata": {
        "id": "BJkg6wvQvZ6f"
      },
      "execution_count": null,
      "outputs": []
    },
    {
      "cell_type": "markdown",
      "source": [
        "Class 1 processing.\n",
        "\n",
        "\n"
      ],
      "metadata": {
        "id": "_qjtTRnYpsDQ"
      }
    },
    {
      "cell_type": "markdown",
      "source": [
        "Train-Test spliting."
      ],
      "metadata": {
        "id": "xzbOonpspyrX"
      }
    },
    {
      "cell_type": "code",
      "source": [
        "xc1_train, xc1_test, yc1_train, yc1_test = train_test_split(xc1, yc1, test_size = 0.3)\n",
        "print(\"___Train Size____\" , \"\\n\")\n",
        "print(xc1_train.shape, yc1_train.shape,\"\\n\")\n",
        "print(\"___Test Size_____\",\"\\n\")\n",
        "print(xc1_test.shape,yc1_test.shape)"
      ],
      "metadata": {
        "colab": {
          "base_uri": "https://localhost:8080/"
        },
        "id": "0ACCBr8CoQGC",
        "outputId": "34571d2b-be7e-490c-9234-f9eb2d4f0c72"
      },
      "execution_count": null,
      "outputs": [
        {
          "output_type": "stream",
          "name": "stdout",
          "text": [
            "___Train Size____ \n",
            "\n",
            "(70, 9) (70, 1) \n",
            "\n",
            "___Test Size_____ \n",
            "\n",
            "(30, 9) (30, 1)\n"
          ]
        }
      ]
    },
    {
      "cell_type": "markdown",
      "source": [
        "Logistic regression model."
      ],
      "metadata": {
        "id": "Th6M_Dpvp3tZ"
      }
    },
    {
      "cell_type": "code",
      "source": [
        "clf11 = LogisticRegression(random_state=3)\n",
        "clf11.fit(xc1_train, yc1_train)\n",
        "pred11 = clf11.predict(xc1_test)\n",
        "accuracy_score(yc1_test, pred11)"
      ],
      "metadata": {
        "colab": {
          "base_uri": "https://localhost:8080/"
        },
        "id": "_tSNO8tOoc5r",
        "outputId": "a83ce9b5-d6b1-43c3-b251-baa05b222c4f"
      },
      "execution_count": null,
      "outputs": [
        {
          "output_type": "stream",
          "name": "stderr",
          "text": [
            "/usr/local/lib/python3.10/dist-packages/sklearn/utils/validation.py:1143: DataConversionWarning: A column-vector y was passed when a 1d array was expected. Please change the shape of y to (n_samples, ), for example using ravel().\n",
            "  y = column_or_1d(y, warn=True)\n"
          ]
        },
        {
          "output_type": "execute_result",
          "data": {
            "text/plain": [
              "0.8666666666666667"
            ]
          },
          "metadata": {},
          "execution_count": 13
        }
      ]
    },
    {
      "cell_type": "markdown",
      "source": [
        "Classification report."
      ],
      "metadata": {
        "id": "u86C5_3Wp7co"
      }
    },
    {
      "cell_type": "code",
      "source": [
        "print(\"Classification Report:\")\n",
        "print(classification_report(yc1_test, pred11))"
      ],
      "metadata": {
        "colab": {
          "base_uri": "https://localhost:8080/"
        },
        "id": "2akFf0naoTB7",
        "outputId": "e5d432f8-a7d4-46ca-b102-3928a9a01732"
      },
      "execution_count": null,
      "outputs": [
        {
          "output_type": "stream",
          "name": "stdout",
          "text": [
            "Classification Report:\n",
            "              precision    recall  f1-score   support\n",
            "\n",
            "         0.0       0.87      1.00      0.93        26\n",
            "         1.0       0.00      0.00      0.00         4\n",
            "\n",
            "    accuracy                           0.87        30\n",
            "   macro avg       0.43      0.50      0.46        30\n",
            "weighted avg       0.75      0.87      0.80        30\n",
            "\n"
          ]
        },
        {
          "output_type": "stream",
          "name": "stderr",
          "text": [
            "/usr/local/lib/python3.10/dist-packages/sklearn/metrics/_classification.py:1344: UndefinedMetricWarning: Precision and F-score are ill-defined and being set to 0.0 in labels with no predicted samples. Use `zero_division` parameter to control this behavior.\n",
            "  _warn_prf(average, modifier, msg_start, len(result))\n",
            "/usr/local/lib/python3.10/dist-packages/sklearn/metrics/_classification.py:1344: UndefinedMetricWarning: Precision and F-score are ill-defined and being set to 0.0 in labels with no predicted samples. Use `zero_division` parameter to control this behavior.\n",
            "  _warn_prf(average, modifier, msg_start, len(result))\n",
            "/usr/local/lib/python3.10/dist-packages/sklearn/metrics/_classification.py:1344: UndefinedMetricWarning: Precision and F-score are ill-defined and being set to 0.0 in labels with no predicted samples. Use `zero_division` parameter to control this behavior.\n",
            "  _warn_prf(average, modifier, msg_start, len(result))\n"
          ]
        }
      ]
    },
    {
      "cell_type": "markdown",
      "source": [
        "Confusion Matrix."
      ],
      "metadata": {
        "id": "n6YXFMWJp_6X"
      }
    },
    {
      "cell_type": "code",
      "source": [
        "confusion_matrix = metrics.confusion_matrix(yc1_test, pred11)\n",
        "cm_display = metrics.ConfusionMatrixDisplay(confusion_matrix = confusion_matrix)\n",
        "cm_display.plot()\n",
        "plt.show()"
      ],
      "metadata": {
        "colab": {
          "base_uri": "https://localhost:8080/",
          "height": 449
        },
        "id": "CiWWFNTjokpA",
        "outputId": "12f9ff39-4af7-4eef-e326-6d809e64317f"
      },
      "execution_count": null,
      "outputs": [
        {
          "output_type": "display_data",
          "data": {
            "text/plain": [
              "<Figure size 640x480 with 2 Axes>"
            ],
            "image/png": "[encoded data removed]"
          },
          "metadata": {}
        }
      ]
    },
    {
      "cell_type": "markdown",
      "source": [
        "SGD Model."
      ],
      "metadata": {
        "id": "gp6A6ll9qEIQ"
      }
    },
    {
      "cell_type": "code",
      "source": [
        "clf12 = SGDClassifier()\n",
        "clf12.fit(xc1_train, yc1_train)\n",
        "pred12 = clf12.predict(xc1_test)\n",
        "accuracy_score(yc1_test, pred12)"
      ],
      "metadata": {
        "colab": {
          "base_uri": "https://localhost:8080/"
        },
        "id": "eICeuGc1oooc",
        "outputId": "3a739c53-414f-4e88-ca94-1651207b600e"
      },
      "execution_count": null,
      "outputs": [
        {
          "output_type": "stream",
          "name": "stderr",
          "text": [
            "/usr/local/lib/python3.10/dist-packages/sklearn/utils/validation.py:1143: DataConversionWarning: A column-vector y was passed when a 1d array was expected. Please change the shape of y to (n_samples, ), for example using ravel().\n",
            "  y = column_or_1d(y, warn=True)\n"
          ]
        },
        {
          "output_type": "execute_result",
          "data": {
            "text/plain": [
              "0.8666666666666667"
            ]
          },
          "metadata": {},
          "execution_count": 33
        }
      ]
    },
    {
      "cell_type": "markdown",
      "source": [
        "Classification report."
      ],
      "metadata": {
        "id": "0yJmtkedqKTC"
      }
    },
    {
      "cell_type": "code",
      "source": [
        "print(\"Classification Report:\")\n",
        "print(classification_report(yc1_test, pred12))"
      ],
      "metadata": {
        "colab": {
          "base_uri": "https://localhost:8080/"
        },
        "id": "N-G_KxLuowhp",
        "outputId": "f4bd875c-f236-4400-fbc7-0ded6cc12111"
      },
      "execution_count": null,
      "outputs": [
        {
          "output_type": "stream",
          "name": "stdout",
          "text": [
            "Classification Report:\n",
            "              precision    recall  f1-score   support\n",
            "\n",
            "         0.0       0.86      0.96      0.91        26\n",
            "         1.0       0.00      0.00      0.00         4\n",
            "\n",
            "    accuracy                           0.83        30\n",
            "   macro avg       0.43      0.48      0.45        30\n",
            "weighted avg       0.75      0.83      0.79        30\n",
            "\n"
          ]
        }
      ]
    },
    {
      "cell_type": "code",
      "source": [
        "confusion_matrix = metrics.confusion_matrix(yc1_test, pred12)\n",
        "cm_display = metrics.ConfusionMatrixDisplay(confusion_matrix = confusion_matrix)\n",
        "cm_display.plot()\n",
        "plt.show()"
      ],
      "metadata": {
        "colab": {
          "base_uri": "https://localhost:8080/",
          "height": 455
        },
        "id": "DqJRRdNnordp",
        "outputId": "0d7496b5-9be5-4b64-fe09-065c70ff6e0e"
      },
      "execution_count": null,
      "outputs": [
        {
          "output_type": "display_data",
          "data": {
            "text/plain": [
              "<Figure size 640x480 with 2 Axes>"
            ],
            "image/png": "[encoded data removed]"
          },
          "metadata": {}
        }
      ]
    },
    {
      "cell_type": "markdown",
      "source": [
        "Class 2 processing."
      ],
      "metadata": {
        "id": "A-hHO5WLqTTQ"
      }
    },
    {
      "cell_type": "markdown",
      "source": [
        "Train-Test spliting."
      ],
      "metadata": {
        "id": "YJz63vPLqXan"
      }
    },
    {
      "cell_type": "code",
      "source": [
        "xc2_train, xc2_test, yc2_train, yc2_test = train_test_split(xc2, yc2, test_size = 0.3)\n",
        "print(\"___Train Size____\" , \"\\n\")\n",
        "print(xc2_train.shape, yc2_train.shape,\"\\n\")\n",
        "print(\"___Test Size_____\",\"\\n\")\n",
        "print(xc2_test.shape, yc2_test.shape)"
      ],
      "metadata": {
        "colab": {
          "base_uri": "https://localhost:8080/"
        },
        "id": "fsO9n9dxo29I",
        "outputId": "54d62905-d040-420d-b574-72a2bd37dda6"
      },
      "execution_count": null,
      "outputs": [
        {
          "output_type": "stream",
          "name": "stdout",
          "text": [
            "___Train Size____ \n",
            "\n",
            "(70, 9) (70, 1) \n",
            "\n",
            "___Test Size_____ \n",
            "\n",
            "(30, 9) (30, 1)\n"
          ]
        }
      ]
    },
    {
      "cell_type": "markdown",
      "source": [
        "Logistic regression model."
      ],
      "metadata": {
        "id": "DqMrvbMfqjIg"
      }
    },
    {
      "cell_type": "code",
      "source": [
        "clf21 = LogisticRegression(random_state=3)\n",
        "clf21.fit(xc2_train, yc2_train)\n",
        "pred21 = clf21.predict(xc2_test)\n",
        "accuracy_score(yc2_test, pred21)"
      ],
      "metadata": {
        "colab": {
          "base_uri": "https://localhost:8080/"
        },
        "id": "_EAmzKDDo57v",
        "outputId": "2cdb2425-47b0-40a3-afa8-2f1da9f90a7d"
      },
      "execution_count": null,
      "outputs": [
        {
          "output_type": "stream",
          "name": "stderr",
          "text": [
            "/usr/local/lib/python3.10/dist-packages/sklearn/utils/validation.py:1143: DataConversionWarning: A column-vector y was passed when a 1d array was expected. Please change the shape of y to (n_samples, ), for example using ravel().\n",
            "  y = column_or_1d(y, warn=True)\n"
          ]
        },
        {
          "output_type": "execute_result",
          "data": {
            "text/plain": [
              "0.9"
            ]
          },
          "metadata": {},
          "execution_count": 32
        }
      ]
    },
    {
      "cell_type": "markdown",
      "source": [
        "Classification report."
      ],
      "metadata": {
        "id": "E3btxQFNqMSg"
      }
    },
    {
      "cell_type": "code",
      "source": [
        "print(\"Classification Report:\")\n",
        "print(classification_report(yc2_test, pred21))"
      ],
      "metadata": {
        "colab": {
          "base_uri": "https://localhost:8080/"
        },
        "id": "9dhkZ9V9o8jR",
        "outputId": "2b227c09-9580-4cba-ea6a-b0e0e7673aaf"
      },
      "execution_count": null,
      "outputs": [
        {
          "output_type": "stream",
          "name": "stdout",
          "text": [
            "Classification Report:\n",
            "              precision    recall  f1-score   support\n",
            "\n",
            "         0.0       0.90      1.00      0.95        27\n",
            "         1.0       0.00      0.00      0.00         3\n",
            "\n",
            "    accuracy                           0.90        30\n",
            "   macro avg       0.45      0.50      0.47        30\n",
            "weighted avg       0.81      0.90      0.85        30\n",
            "\n"
          ]
        },
        {
          "output_type": "stream",
          "name": "stderr",
          "text": [
            "/usr/local/lib/python3.10/dist-packages/sklearn/metrics/_classification.py:1344: UndefinedMetricWarning: Precision and F-score are ill-defined and being set to 0.0 in labels with no predicted samples. Use `zero_division` parameter to control this behavior.\n",
            "  _warn_prf(average, modifier, msg_start, len(result))\n",
            "/usr/local/lib/python3.10/dist-packages/sklearn/metrics/_classification.py:1344: UndefinedMetricWarning: Precision and F-score are ill-defined and being set to 0.0 in labels with no predicted samples. Use `zero_division` parameter to control this behavior.\n",
            "  _warn_prf(average, modifier, msg_start, len(result))\n",
            "/usr/local/lib/python3.10/dist-packages/sklearn/metrics/_classification.py:1344: UndefinedMetricWarning: Precision and F-score are ill-defined and being set to 0.0 in labels with no predicted samples. Use `zero_division` parameter to control this behavior.\n",
            "  _warn_prf(average, modifier, msg_start, len(result))\n"
          ]
        }
      ]
    },
    {
      "cell_type": "markdown",
      "source": [
        "Confusion Matrix."
      ],
      "metadata": {
        "id": "LO1UFdxTqg7Q"
      }
    },
    {
      "cell_type": "code",
      "source": [
        "confusion_matrix = metrics.confusion_matrix(yc2_test, pred21)\n",
        "cm_display = metrics.ConfusionMatrixDisplay(confusion_matrix = confusion_matrix)\n",
        "cm_display.plot()\n",
        "plt.show()"
      ],
      "metadata": {
        "colab": {
          "base_uri": "https://localhost:8080/",
          "height": 449
        },
        "id": "BjImncIxo_yw",
        "outputId": "4b875368-e685-4072-d86b-372bf3d22156"
      },
      "execution_count": null,
      "outputs": [
        {
          "output_type": "display_data",
          "data": {
            "text/plain": [
              "<Figure size 640x480 with 2 Axes>"
            ],
            "image/png": "[encoded data removed]"
          },
          "metadata": {}
        }
      ]
    },
    {
      "cell_type": "markdown",
      "source": [
        "SGD Model."
      ],
      "metadata": {
        "id": "0E1i9JqdqqKY"
      }
    },
    {
      "cell_type": "code",
      "source": [
        "clf22 = SGDClassifier()\n",
        "clf22.fit(xc2_train, yc2_train)\n",
        "pred22 = clf22.predict(xc2_test)\n",
        "accuracy_score(yc2_test, pred22)"
      ],
      "metadata": {
        "colab": {
          "base_uri": "https://localhost:8080/"
        },
        "id": "ASjRkbOZpCvi",
        "outputId": "6fd8dbc5-871f-412c-85d7-9e550af8c741"
      },
      "execution_count": null,
      "outputs": [
        {
          "output_type": "stream",
          "name": "stderr",
          "text": [
            "/usr/local/lib/python3.10/dist-packages/sklearn/utils/validation.py:1143: DataConversionWarning: A column-vector y was passed when a 1d array was expected. Please change the shape of y to (n_samples, ), for example using ravel().\n",
            "  y = column_or_1d(y, warn=True)\n"
          ]
        },
        {
          "output_type": "execute_result",
          "data": {
            "text/plain": [
              "0.8333333333333334"
            ]
          },
          "metadata": {},
          "execution_count": 23
        }
      ]
    },
    {
      "cell_type": "markdown",
      "source": [
        "Classification report."
      ],
      "metadata": {
        "id": "DxgKoHiFqNfY"
      }
    },
    {
      "cell_type": "code",
      "source": [
        "print(\"Classification Report:\")\n",
        "print(classification_report(yc2_test, pred22))"
      ],
      "metadata": {
        "colab": {
          "base_uri": "https://localhost:8080/"
        },
        "id": "vlbIJ2TWpFrJ",
        "outputId": "078c3d16-0a2f-462d-ac61-17ff8e5d0c8f"
      },
      "execution_count": null,
      "outputs": [
        {
          "output_type": "stream",
          "name": "stdout",
          "text": [
            "Classification Report:\n",
            "              precision    recall  f1-score   support\n",
            "\n",
            "         0.0       0.89      0.93      0.91        27\n",
            "         1.0       0.00      0.00      0.00         3\n",
            "\n",
            "    accuracy                           0.83        30\n",
            "   macro avg       0.45      0.46      0.45        30\n",
            "weighted avg       0.80      0.83      0.82        30\n",
            "\n"
          ]
        }
      ]
    },
    {
      "cell_type": "markdown",
      "source": [
        "Confusion Matrix."
      ],
      "metadata": {
        "id": "vpjZHtbtqfiY"
      }
    },
    {
      "cell_type": "code",
      "source": [
        "confusion_matrix = metrics.confusion_matrix(yc2_test, pred22)\n",
        "cm_display = metrics.ConfusionMatrixDisplay(confusion_matrix = confusion_matrix)\n",
        "cm_display.plot()\n",
        "plt.show()"
      ],
      "metadata": {
        "colab": {
          "base_uri": "https://localhost:8080/",
          "height": 455
        },
        "id": "yYpC4rFZpIpA",
        "outputId": "32cbb87f-7810-49ce-caa6-336ab2584606"
      },
      "execution_count": null,
      "outputs": [
        {
          "output_type": "display_data",
          "data": {
            "text/plain": [
              "<Figure size 640x480 with 2 Axes>"
            ],
            "image/png": "[encoded data removed]"
          },
          "metadata": {}
        }
      ]
    },
    {
      "cell_type": "code",
      "source": [
        "from sklearn.metrics import log_loss\n",
        "y_prob1 = clf11.predict_proba(xc1_test)\n",
        "loss = log_loss(yc1_test, y_prob1)\n",
        "print(\"Log Loss:\", loss)"
      ],
      "metadata": {
        "colab": {
          "base_uri": "https://localhost:8080/"
        },
        "id": "P9a2HM3p7LH9",
        "outputId": "9c436123-6b25-44fc-ed12-e9299fdb4cdf"
      },
      "execution_count": null,
      "outputs": [
        {
          "output_type": "stream",
          "name": "stdout",
          "text": [
            "Log Loss: 0.45982582089710206\n"
          ]
        }
      ]
    },
    {
      "cell_type": "code",
      "source": [
        "for epoch in range(1000):\n",
        "    clf12.partial_fit(xc1_train, yc1_train, classes=np.unique(y))\n",
        "    decision_values = clf12.decision_function(xc1_train)\n",
        "    loss = hinge_loss(yc1_train, decision_values)\n",
        "    loss_history.append(loss)"
      ],
      "metadata": {
        "id": "-lxX9F3uGSTV"
      },
      "execution_count": null,
      "outputs": []
    },
    {
      "cell_type": "code",
      "source": [
        "plt.figure(figsize=(8, 6))\n",
        "plt.plot(loss_history)\n",
        "plt.title('Loss Curve During Training')\n",
        "plt.xlabel('Iteration')\n",
        "plt.ylabel('Hinge Loss')\n",
        "plt.show()"
      ],
      "metadata": {
        "colab": {
          "base_uri": "https://localhost:8080/",
          "height": 564
        },
        "id": "ZiW2iklkGflw",
        "outputId": "d71c9f18-53d0-49c5-90f6-0c1314e53a95"
      },
      "execution_count": null,
      "outputs": [
        {
          "output_type": "display_data",
          "data": {
            "text/plain": [
              "<Figure size 800x600 with 1 Axes>"
            ],
            "image/png": "[encoded data removed]"
          },
          "metadata": {}
        }
      ]
    },
    {
      "cell_type": "code",
      "source": [
        "from sklearn.metrics import precision_score, recall_score, f1_score\n",
        "print(f'Precision: {precision_score(yc1_test, pred11)}')\n",
        "print(f'F1 Score: {f1_score(yc1_test, pred11)}')\n",
        "print(f'Recall: {recall_score(yc1_test, pred11)}')"
      ],
      "metadata": {
        "id": "5LxovoSiHPMV"
      },
      "execution_count": null,
      "outputs": []
    }
  ]
}